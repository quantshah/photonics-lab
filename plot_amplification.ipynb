{
 "cells": [
  {
   "cell_type": "code",
   "execution_count": 3,
   "metadata": {},
   "outputs": [],
   "source": [
    "import matplotlib.pyplot as plt\n",
    "import numpy as np\n",
    "\n",
    "from scipy.io import loadmat"
   ]
  },
  {
   "cell_type": "code",
   "execution_count": 31,
   "metadata": {},
   "outputs": [
    {
     "name": "stdout",
     "output_type": "stream",
     "text": [
      "[-29.22 -29.21 -29.21 ... -29.05 -29.05 -29.06]\n",
      "[1546.5   1546.501 1546.502 ... 1550.498 1550.499 1550.5  ]\n",
      "-11.69\n",
      "0.0\n",
      "[-29.2  -29.19 -29.18 ... -29.04 -29.04 -29.04]\n",
      "[1546.5   1546.501 1546.502 ... 1550.498 1550.499 1550.5  ]\n",
      "-11.82\n",
      "0.05\n",
      "[-29.19 -29.22 -29.21 ... -29.03 -29.03 -29.03]\n",
      "[1546.5   1546.501 1546.502 ... 1550.498 1550.499 1550.5  ]\n",
      "-11.82\n",
      "0.1\n",
      "[-29.2  -29.22 -29.21 ... -29.02 -29.02 -29.02]\n",
      "[1546.5   1546.501 1546.502 ... 1550.498 1550.499 1550.5  ]\n",
      "-12.15\n",
      "0.5\n",
      "[-29.21 -29.22 -29.22 ... -29.05 -29.04 -29.04]\n",
      "[1546.5   1546.501 1546.502 ... 1550.498 1550.499 1550.5  ]\n",
      "-11.91\n",
      "0.75\n",
      "[-29.19 -29.18 -29.18 ... -29.03 -29.03 -29.02]\n",
      "[1546.5   1546.501 1546.502 ... 1550.498 1550.499 1550.5  ]\n",
      "-11.45\n",
      "1.0\n",
      "[-29.24 -29.24 -29.22 ... -29.05 -29.05 -29.06]\n",
      "[1546.5   1546.501 1546.502 ... 1550.498 1550.499 1550.5  ]\n",
      "-10.99\n",
      "1.25\n",
      "[-29.24 -29.25 -29.23 ... -29.06 -29.05 -29.05]\n",
      "[1546.5   1546.501 1546.502 ... 1550.498 1550.499 1550.5  ]\n",
      "-10.45\n",
      "1.5\n",
      "[-29.24 -29.23 -29.22 ... -29.04 -29.04 -29.04]\n",
      "[1546.5   1546.501 1546.502 ... 1550.498 1550.499 1550.5  ]\n",
      "-10.02\n",
      "1.75\n",
      "[-29.17 -29.18 -29.18 ... -29.03 -29.02 -29.03]\n",
      "[1546.5   1546.501 1546.502 ... 1550.498 1550.499 1550.5  ]\n",
      "-9.83\n",
      "2.0\n",
      "[-29.2  -29.2  -29.2  ... -29.03 -29.02 -29.03]\n",
      "[1546.5   1546.501 1546.502 ... 1550.498 1550.499 1550.5  ]\n",
      "-10.17\n",
      "2.5\n",
      "[-29.15 -29.17 -29.16 ... -29.01 -29.01 -29.  ]\n",
      "[1546.5   1546.501 1546.502 ... 1550.498 1550.499 1550.5  ]\n",
      "-11.3\n",
      "3.0\n"
     ]
    },
    {
     "data": {
      "image/png": "[encoded data removed]",
      "text/plain": [
       "<Figure size 432x288 with 1 Axes>"
      ]
     },
     "metadata": {
      "needs_background": "light"
     },
     "output_type": "display_data"
    }
   ],
   "source": [
    "\n",
    "for phase in [0.0, 0.05, 0.1, 0.5, 0.75, 1.0, 1.25, 1.5, 1.75, 2.0, 2.5, 3.0]:\n",
    "    \n",
    "    mat = loadmat('phase-sensitive-amp-phase-{}.mat'.format(str(phase)))\n",
    "    # print(mat)\n",
    "    # w1 = mat[\"w1\"]\n",
    "    wl = mat[\"wl\"].ravel()\n",
    "    power = mat[\"power\"].ravel()\n",
    "    print(power)\n",
    "    print(wl)\n",
    "    print(max(power[1500:2500]))\n",
    "    print(phase)\n",
    "    plt.plot(wl,power)\n",
    "\n",
    "plt.xlim(1546, 1551)\n",
    "plt.ylim(-15, 5)\n",
    "plt.xlabel('Wavelength (nm)')\n",
    "plt.ylabel('Power (dBm)')\n",
    "plt.show()\n"
   ]
  },
  {
   "cell_type": "code",
   "execution_count": 35,
   "metadata": {},
   "outputs": [
    {
     "name": "stdout",
     "output_type": "stream",
     "text": [
      "-11.69\n",
      "-11.82\n",
      "-11.82\n",
      "-12.15\n",
      "-11.91\n",
      "-11.45\n",
      "-10.99\n",
      "-10.45\n",
      "-10.02\n",
      "-9.83\n",
      "-10.17\n",
      "-11.3\n"
     ]
    },
    {
     "data": {
      "image/png": "[encoded data removed]",
      "text/plain": [
       "<Figure size 432x288 with 1 Axes>"
      ]
     },
     "metadata": {
      "needs_background": "light"
     },
     "output_type": "display_data"
    }
   ],
   "source": [
    "for phase in [0.0, 0.05, 0.1, 0.5, 0.75, 1.0, 1.25, 1.5, 1.75, 2.0, 2.5, 3.0]:\n",
    "    \n",
    "    mat = loadmat('phase-sensitive-amp-phase-{}.mat'.format(str(phase)))\n",
    "    # print(mat)\n",
    "    # w1 = mat[\"w1\"]\n",
    "    wl = mat[\"wl\"].ravel()\n",
    "    power = mat[\"power\"].ravel()\n",
    "    # print(power)\n",
    "    # print(wl)\n",
    "    print(max(power[1500:2500]))\n",
    "    # print(phase)\n",
    "    plt.plot(phase,max(power[1500:2500]))\n",
    "\n",
    "plt.xlim(0,3)\n",
    "plt.ylim(-15, -5)\n",
    "plt.xlabel('phase')\n",
    "plt.ylabel('Power (dBm)')\n",
    "plt.show()\n"
   ]
  }
 ],
 "metadata": {
  "kernelspec": {
   "display_name": "Python 3",
   "language": "python",
   "name": "python3"
  },
  "language_info": {
   "codemirror_mode": {
    "name": "ipython",
    "version": 3
   },
   "file_extension": ".py",
   "mimetype": "text/x-python",
   "name": "python",
   "nbconvert_exporter": "python",
   "pygments_lexer": "ipython3",
   "version": "3.7.4"
  }
 },
 "nbformat": 4,
 "nbformat_minor": 4
}
